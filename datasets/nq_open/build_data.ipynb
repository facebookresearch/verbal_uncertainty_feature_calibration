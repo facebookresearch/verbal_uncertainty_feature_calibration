{
 "cells": [
  {
   "cell_type": "code",
   "execution_count": 1,
   "metadata": {},
   "outputs": [],
   "source": [
    "from datasets import load_dataset"
   ]
  },
  {
   "cell_type": "code",
   "execution_count": 2,
   "metadata": {},
   "outputs": [
    {
     "name": "stderr",
     "output_type": "stream",
     "text": [
      "Using the latest cached version of the dataset since google-research-datasets/nq_open couldn't be found on the Hugging Face Hub\n",
      "Found the latest cached dataset configuration 'nq_open' at /private/home/ziweiji/.cache/huggingface/datasets/google-research-datasets___nq_open/nq_open/0.0.0/5dd9790a83002ad084ddeb7c420dc716852c6f28 (last modified on Thu Jan  9 16:36:59 2025).\n"
     ]
    }
   ],
   "source": [
    "data = load_dataset(\"google-research-datasets/nq_open\")"
   ]
  },
  {
   "cell_type": "code",
   "execution_count": 3,
   "metadata": {},
   "outputs": [],
   "source": [
    "import random\n",
    "import csv\n",
    "\n",
    "train_data = data['train'].shuffle(seed=42).select(range(10000))\n",
    "test_val_data = data['validation'].shuffle(seed=42).select(range(2000))\n",
    "# split test_val_data into test and val\n",
    "test_data = test_val_data.select(range(1000))\n",
    "val_data = test_val_data.select(range(1000, 2000))"
   ]
  },
  {
   "cell_type": "code",
   "execution_count": 4,
   "metadata": {},
   "outputs": [],
   "source": [
    "def write_file(data, split):\n",
    "    all_questions = []\n",
    "    with open(f\"sampled/{split}.csv\", \"w\") as f:\n",
    "        writer = csv.writer(f)\n",
    "        writer.writerow([\"id\", \"question\", \"answer\"])\n",
    "        for i in range(len(data)):\n",
    "            question =  data[i]['question']\n",
    "            assert question not in all_questions\n",
    "            all_questions.append(question)\n",
    "            writer.writerow([f'{split}_{i}',question, data[i]['answer']])"
   ]
  },
  {
   "cell_type": "code",
   "execution_count": 5,
   "metadata": {},
   "outputs": [],
   "source": [
    "write_file(train_data, \"train\")\n",
    "write_file(test_data, \"test\")\n",
    "write_file(val_data, \"val\")"
   ]
  }
 ],
 "metadata": {
  "kernelspec": {
   "display_name": "detect",
   "language": "python",
   "name": "python3"
  },
  "language_info": {
   "codemirror_mode": {
    "name": "ipython",
    "version": 3
   },
   "file_extension": ".py",
   "mimetype": "text/x-python",
   "name": "python",
   "nbconvert_exporter": "python",
   "pygments_lexer": "ipython3",
   "version": "3.8.17"
  }
 },
 "nbformat": 4,
 "nbformat_minor": 2
}
