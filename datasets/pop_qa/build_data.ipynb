{
 "cells": [
  {
   "cell_type": "code",
   "execution_count": 1,
   "metadata": {},
   "outputs": [
    {
     "name": "stderr",
     "output_type": "stream",
     "text": [
      "Repo card metadata block was not found. Setting CardData to empty.\n",
      "Using the latest cached version of the dataset since akariasai/PopQA couldn't be found on the Hugging Face Hub\n",
      "Found the latest cached dataset configuration 'default' at /private/home/ziweiji/.cache/huggingface/datasets/akariasai___pop_qa/default/0.0.0/098765c79ea10a2cb19c828324e33281b8336ec0 (last modified on Wed Jan  8 09:43:58 2025).\n"
     ]
    }
   ],
   "source": [
    "from datasets import load_dataset\n",
    "import csv\n",
    "\n",
    "data = load_dataset(\"akariasai/PopQA\")"
   ]
  },
  {
   "cell_type": "code",
   "execution_count": null,
   "metadata": {},
   "outputs": [],
   "source": [
    "data = data['test'].shuffle(seed=42).select(range(12000))\n",
    "train_data = data.select(range(10000))\n",
    "test_data = data.select(range(10000, 11000))\n",
    "val_data = data.select(range(11000, 12000))"
   ]
  },
  {
   "cell_type": "code",
   "execution_count": 3,
   "metadata": {},
   "outputs": [],
   "source": [
    "def write_file(data, split):\n",
    "    all_ids = set()\n",
    "    with open(f\"sampled/{split}.csv\", \"w\") as f:\n",
    "        writer = csv.writer(f)\n",
    "        writer.writerow([\"id\", \"question\", \"answer\"])\n",
    "        for i in range(len(data)):\n",
    "            id = data[i]['question_id']\n",
    "            assert id not in all_ids\n",
    "            all_ids.add(id)\n",
    "            writer.writerow([id, data[i]['question'], data[i]['possible_answers']])"
   ]
  },
  {
   "cell_type": "code",
   "execution_count": null,
   "metadata": {},
   "outputs": [],
   "source": [
    "\n",
    "# save as csv\n",
    "write_file(train_data, \"train\")\n",
    "write_file(val_data, \"val\")\n",
    "write_file(test_data, \"test\")"
   ]
  }
 ],
 "metadata": {
  "kernelspec": {
   "display_name": "detect",
   "language": "python",
   "name": "python3"
  },
  "language_info": {
   "codemirror_mode": {
    "name": "ipython",
    "version": 3
   },
   "file_extension": ".py",
   "mimetype": "text/x-python",
   "name": "python",
   "nbconvert_exporter": "python",
   "pygments_lexer": "ipython3",
   "version": "3.8.17"
  }
 },
 "nbformat": 4,
 "nbformat_minor": 2
}
