{
 "cells": [
  {
   "cell_type": "code",
   "execution_count": 6,
   "metadata": {},
   "outputs": [],
   "source": [
    "from datasets import load_dataset, Dataset\n",
    "import csv\n",
    "import tqdm.auto as tqdm"
   ]
  },
  {
   "cell_type": "code",
   "execution_count": 2,
   "metadata": {},
   "outputs": [
    {
     "name": "stderr",
     "output_type": "stream",
     "text": [
      "Using the latest cached version of the dataset since mandarjoshi/trivia_qa couldn't be found on the Hugging Face Hub\n",
      "Found the latest cached dataset configuration 'rc' at /private/home/ziweiji/.cache/huggingface/datasets/mandarjoshi___trivia_qa/rc/0.0.0/0f7faf33a3908546c6fd5b73a660e0f8ff173c2f (last modified on Thu Jan  9 16:41:23 2025).\n"
     ]
    },
    {
     "data": {
      "application/vnd.jupyter.widget-view+json": {
       "model_id": "a777bc5b099448d5997a0e284a448b33",
       "version_major": 2,
       "version_minor": 0
      },
      "text/plain": [
       "Loading dataset shards:   0%|          | 0/24 [00:00<?, ?it/s]"
      ]
     },
     "metadata": {},
     "output_type": "display_data"
    }
   ],
   "source": [
    "data = load_dataset(\"mandarjoshi/trivia_qa\", 'rc')"
   ]
  },
  {
   "cell_type": "code",
   "execution_count": 7,
   "metadata": {},
   "outputs": [],
   "source": [
    "# There are some repated question_id ids in the dataset, so we need to remove them\n",
    "\n",
    "train_data = data['train']\n",
    "train_df = train_data.to_pandas()\n",
    "train_df = train_df.drop_duplicates(subset='question_id')\n",
    "train_data = Dataset.from_pandas(train_df)\n",
    "train_data = train_data.shuffle(seed=42).select(range(10000))\n",
    "\n",
    "validation_data = data['validation']\n",
    "validation_df = validation_data.to_pandas()\n",
    "validation_df = validation_df.drop_duplicates(subset='question_id')\n",
    "validation_data = Dataset.from_pandas(validation_df)\n",
    "test_val_data = validation_data.shuffle(seed=42).select(range(2000))\n",
    "test_data = test_val_data.select(range(1000))\n",
    "val_data = test_val_data.select(range(1000, 2000))"
   ]
  },
  {
   "cell_type": "code",
   "execution_count": 8,
   "metadata": {},
   "outputs": [],
   "source": [
    "def write_file(data, split):\n",
    "    all_ids = set()\n",
    "    with open(f\"sampled/{split}.csv\", \"w\") as f:\n",
    "        writer = csv.writer(f)\n",
    "        writer.writerow([\"id\", \"question\", \"answer\"])\n",
    "        for i in range(len(data)):\n",
    "            id = data[i]['question_id']\n",
    "            assert id not in all_ids\n",
    "            all_ids.add(id)\n",
    "            writer.writerow([id, data[i]['question'], data[i]['answer']['aliases']])"
   ]
  },
  {
   "cell_type": "code",
   "execution_count": 9,
   "metadata": {},
   "outputs": [],
   "source": [
    "write_file(train_data, \"train\")\n",
    "write_file(val_data, \"val\")\n",
    "write_file(test_data, \"test\")"
   ]
  }
 ],
 "metadata": {
  "kernelspec": {
   "display_name": "detect",
   "language": "python",
   "name": "python3"
  },
  "language_info": {
   "codemirror_mode": {
    "name": "ipython",
    "version": 3
   },
   "file_extension": ".py",
   "mimetype": "text/x-python",
   "name": "python",
   "nbconvert_exporter": "python",
   "pygments_lexer": "ipython3",
   "version": "3.8.17"
  }
 },
 "nbformat": 4,
 "nbformat_minor": 2
}
